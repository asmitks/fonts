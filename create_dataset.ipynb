{
 "cells": [
  {
   "cell_type": "code",
   "execution_count": 88,
   "metadata": {},
   "outputs": [],
   "source": [
    "import os\n",
    "import shutil\n",
    "import random\n",
    "from PIL import Image, ImageOps"
   ]
  },
  {
   "cell_type": "code",
   "execution_count": 96,
   "metadata": {},
   "outputs": [],
   "source": [
    "images = \"../datasets/images/\"\n",
    "bg_color = 'rgb(255, 255, 179)'"
   ]
  },
  {
   "cell_type": "code",
   "execution_count": 114,
   "metadata": {},
   "outputs": [],
   "source": [
    "all_fonts = os.listdir(images)\n",
    "\n",
    "if \".DS_Store\" in all_fonts:\n",
    "    del all_fonts[all_fonts.index(\".DS_Store\")]\n",
    "    print('deleted DS_Store')\n",
    "\n"
   ]
  },
  {
   "cell_type": "code",
   "execution_count": 115,
   "metadata": {},
   "outputs": [],
   "source": [
    "def get_concat_h(im1, im2):\n",
    "    dst = Image.new('RGB', (im1.width + im2.width, im1.height))\n",
    "    dst.paste(im1, (0, 0))\n",
    "    dst.paste(im2, (im1.width, 0))\n",
    "    return dst\n",
    "\n",
    "def get_concat_v(im1, im2):\n",
    "    dst = Image.new('RGB', (im1.width, im1.height + im2.height))\n",
    "    dst.paste(im1, (0, 0))\n",
    "    dst.paste(im2, (0, im1.height))\n",
    "    return dst\n",
    "\n",
    "def get_concat_hv(japs,eng,n,col):\n",
    "    ctr = 0\n",
    "    h = []\n",
    "    for r in range(n-1):\n",
    "#         print(ctr)\n",
    "\n",
    "        h1 = ImageOps.colorize(japs[ctr], black = col, white = \"white\")\n",
    "        ctr+=1\n",
    "        if (r==(n//2)):\n",
    "            for i in range(1,n):\n",
    "                if i==(n//2):\n",
    "                    h1=get_concat_h(h1, ImageOps.colorize(eng, black = \"black\", white = bg_color))\n",
    "                    \n",
    "                    continue\n",
    "                h1=get_concat_h(h1,ImageOps.colorize(japs[ctr], black = col, white = \"white\"))\n",
    "                ctr+=1\n",
    "                \n",
    "            h.append(h1)\n",
    "            \n",
    "            continue\n",
    "        for i in range(1,n):\n",
    "            h1=get_concat_h(h1,ImageOps.colorize(japs[ctr], black = col, white = \"white\"))\n",
    "            ctr+=1\n",
    "        h.append(h1)\n",
    "                                \n",
    "    h1=get_concat_h(ImageOps.colorize(japs[6], black = col, white = \"white\"),ImageOps.colorize(japs[5], black = col, white = \"white\"))\n",
    "    h1=get_concat_h(h1,ImageOps.colorize(japs[7], black = col, white = \"white\"))\n",
    "    \n",
    "    h.append(h1)\n",
    "    \n",
    "#     h[-1]\n",
    "    \n",
    "    ans = h[0]\n",
    "#     print(len(h))\n",
    "    x=1\n",
    "    while(x<len(h)):\n",
    "        ans = get_concat_v(ans, h[x])\n",
    "        x+=1                                \n",
    "                    \n",
    "    \n",
    "    return ans.resize((256, 256), Image.ANTIALIAS)"
   ]
  },
  {
   "cell_type": "code",
   "execution_count": null,
   "metadata": {},
   "outputs": [],
   "source": []
  },
  {
   "cell_type": "code",
   "execution_count": 116,
   "metadata": {},
   "outputs": [],
   "source": [
    "t = \"+ \".join(list(\"ABCDEFGHIJKLMNOPQRSTUVWXYZ\"))\n",
    "english = t.split(\" \") + list(\"abcdefghijklmnopqrstuvwxyz1234567890\")\n"
   ]
  },
  {
   "cell_type": "code",
   "execution_count": 117,
   "metadata": {},
   "outputs": [
    {
     "name": "stdout",
     "output_type": "stream",
     "text": [
      "Training data done\n"
     ]
    }
   ],
   "source": [
    "# creating training data\n",
    "import numpy as np\n",
    "from tqdm import tqdm\n",
    "i = 0\n",
    "while i<1000:\n",
    "    col= f'rgb({random.randint(0,128)},{random.randint(0,128)},{random.randint(0,128)})'\n",
    "    \n",
    "    font_index = random.randint(0, len(all_fonts)-5)\n",
    "    \n",
    "    jap_alp = os.listdir(images + all_fonts[font_index])\n",
    "    jap_alp.sort()\n",
    "    jap_alp = jap_alp[63:]\n",
    "    \n",
    "    jap_alp_indexs = np.random.choice(list(range(0, len(jap_alp)-1)), 8,replace=True)\n",
    "    \n",
    "    eng_index = random.randint(0, len(english)-1)\n",
    "    \n",
    "    # read the images \n",
    "#     jap1 = Image.open(images + all_fonts[font_index] + '/' + jap_alp[jap_alp_indexs[0]] ) \n",
    "#     jap2 = Image.open(images + all_fonts[font_index] + '/' + jap_alp[jap_alp_indexs[1]] )\n",
    "#     jap3 = Image.open(images + all_fonts[font_index] + '/' + jap_alp[jap_alp_indexs[2]] )\n",
    "    japs = [Image.open(images + all_fonts[font_index] + '/' + jap_alp[jap_alp_indexs[i]] ) for i in range(8)]\n",
    "    try:\n",
    "        eng_output = Image.open(images + all_fonts[font_index] + '/' + english[eng_index] + \".png\")\n",
    "        eng_output = eng_output.resize((256,256), Image.ANTIALIAS)\n",
    "        eng_output = ImageOps.colorize(eng_output, black = col, white = bg_color)\n",
    "    except:\n",
    "        continue\n",
    "    \n",
    "    eng = Image.open(\"./Gotham/\" + english[eng_index] + \".png\")\n",
    "    \n",
    "    X = get_concat_hv(japs, eng,3,col)\n",
    "    \n",
    "    # saving the training data\n",
    "    X.save(\"A/train/\" + str(i) + \".png\")\n",
    "    eng_output.save(\"B/train/\" + str(i) + \".png\")\n",
    "    i +=1\n",
    "    \n",
    "    \n",
    "    \n",
    "    \n",
    "print(\"Training data done\")   \n",
    "    \n",
    "    "
   ]
  },
  {
   "cell_type": "code",
   "execution_count": 118,
   "metadata": {},
   "outputs": [
    {
     "name": "stdout",
     "output_type": "stream",
     "text": [
      "Val data done\n"
     ]
    }
   ],
   "source": [
    "# creating val data\n",
    "i=0\n",
    "while i<500:\n",
    "    col= f'rgb({random.randint(0,128)},{random.randint(0,128)},{random.randint(0,128)})'\n",
    "    \n",
    "    font_index = random.randint(len(all_fonts)-6, len(all_fonts)-1)\n",
    "    \n",
    "    jap_alp = os.listdir(images + all_fonts[font_index])\n",
    "    jap_alp.sort()\n",
    "    jap_alp = jap_alp[63:]\n",
    "    \n",
    "    jap_alp_indexs = np.random.choice(list(range(0, len(jap_alp)-1)), 8,replace=True)\n",
    "    \n",
    "    eng_index = random.randint(0, len(english)-1)\n",
    "    \n",
    "    # read the images \n",
    "#     jap1 = Image.open(images + all_fonts[font_index] + '/' + jap_alp[jap_alp_indexs[0]] ) \n",
    "#     jap2 = Image.open(images + all_fonts[font_index] + '/' + jap_alp[jap_alp_indexs[1]] )\n",
    "#     jap3 = Image.open(images + all_fonts[font_index] + '/' + jap_alp[jap_alp_indexs[2]] )\n",
    "    japs = [Image.open(images + all_fonts[font_index] + '/' + jap_alp[jap_alp_indexs[i]] ) for i in range(8)]\n",
    "    try:\n",
    "        eng_output = Image.open(images + all_fonts[font_index] + '/' + english[eng_index] + \".png\")\n",
    "        eng_output = eng_output.resize((256,256), Image.ANTIALIAS)\n",
    "        eng_output = ImageOps.colorize(eng_output, black = col, white = bg_color)\n",
    "\n",
    "    except:\n",
    "        continue\n",
    "    \n",
    "    eng = Image.open(\"./Gotham/\" + english[eng_index] + \".png\")\n",
    "    \n",
    "    X = get_concat_hv(japs, eng,3,col)\n",
    "\n",
    "    \n",
    "    \n",
    "    # saving the training data\n",
    "    X.save(\"A/val/\" + str(i) + \".png\")\n",
    "    eng_output.save(\"B/val/\" + str(i) + \".png\")\n",
    "    i+=1\n",
    "    \n",
    "\n",
    "print(\"Val data done\")  \n",
    "    \n",
    "    \n",
    "    \n",
    "    \n",
    "    "
   ]
  },
  {
   "cell_type": "code",
   "execution_count": 119,
   "metadata": {},
   "outputs": [
    {
     "name": "stdout",
     "output_type": "stream",
     "text": [
      "Test data done\n"
     ]
    }
   ],
   "source": [
    "# creating test data\n",
    "i=0\n",
    "while i<500:\n",
    "    col= f'rgb({random.randint(0,128)},{random.randint(0,128)},{random.randint(0,128)})'\n",
    "    \n",
    "    \n",
    "    font_index = random.randint(len(all_fonts)-6, len(all_fonts)-1)\n",
    "    \n",
    "    jap_alp = os.listdir(images + all_fonts[font_index])\n",
    "    jap_alp.sort()\n",
    "    jap_alp = jap_alp[63:]\n",
    "    \n",
    "    jap_alp_indexs = np.random.choice(list(range(0, len(jap_alp)-1)), 8,replace=True)\n",
    "    \n",
    "    eng_index = random.randint(0, len(english)-1)\n",
    "    \n",
    "    # read the images \n",
    "#     jap1 = Image.open(images + all_fonts[font_index] + '/' + jap_alp[jap_alp_indexs[0]] ) \n",
    "#     jap2 = Image.open(images + all_fonts[font_index] + '/' + jap_alp[jap_alp_indexs[1]] )\n",
    "#     jap3 = Image.open(images + all_fonts[font_index] + '/' + jap_alp[jap_alp_indexs[2]] )\n",
    "    japs = [Image.open(images + all_fonts[font_index] + '/' + jap_alp[jap_alp_indexs[i]] ) for i in range(8)]\n",
    "    try:\n",
    "        eng_output = Image.open(images + all_fonts[font_index] + '/' + english[eng_index] + \".png\")\n",
    "        eng_output = eng_output.resize((256,256), Image.ANTIALIAS)\n",
    "        eng_output = ImageOps.colorize(eng_output, black = col, white = bg_color)\n",
    "\n",
    "    except:\n",
    "        continue\n",
    "    \n",
    "    eng = Image.open(\"./Gotham/\" + english[eng_index] + \".png\")\n",
    "    \n",
    "    X = get_concat_hv(japs, eng,3,col)\n",
    "\n",
    "    \n",
    "    # saving the training data\n",
    "    X.save(\"A/test/\" + str(i) + \".png\")\n",
    "    eng_output.save(\"B/test/\" + str(i) + \".png\")\n",
    "    i+=1\n",
    "\n",
    "print(\"Test data done\")  \n",
    "    \n",
    "    \n",
    "    \n",
    "    \n",
    "    \n",
    "    "
   ]
  },
  {
   "cell_type": "code",
   "execution_count": null,
   "metadata": {},
   "outputs": [],
   "source": []
  },
  {
   "cell_type": "code",
   "execution_count": null,
   "metadata": {},
   "outputs": [],
   "source": []
  }
 ],
 "metadata": {
  "kernelspec": {
   "display_name": "venv",
   "language": "python",
   "name": "venv"
  },
  "language_info": {
   "codemirror_mode": {
    "name": "ipython",
    "version": 3
   },
   "file_extension": ".py",
   "mimetype": "text/x-python",
   "name": "python",
   "nbconvert_exporter": "python",
   "pygments_lexer": "ipython3",
   "version": "3.8.5"
  }
 },
 "nbformat": 4,
 "nbformat_minor": 5
}
